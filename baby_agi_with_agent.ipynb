{
  "cells": [
    {
      "cell_type": "markdown",
      "metadata": {
        "id": "view-in-github",
        "colab_type": "text"
      },
      "source": [
        "<a href=\"https://colab.research.google.com/github/jimwhite/babyagi-langchain/blob/main/baby_agi_with_agent.ipynb\" target=\"_parent\"><img src=\"https://colab.research.google.com/assets/colab-badge.svg\" alt=\"Open In Colab\"/></a>"
      ]
    },
    {
      "cell_type": "markdown",
      "id": "517a9fd4",
      "metadata": {
        "id": "517a9fd4"
      },
      "source": [
        "# BabyAGI with Tools\n",
        "\n",
        "This is a copy of LangChain's [Baby AGI with Tools](https://python.langchain.com/en/latest/use_cases/agents/baby_agi_with_agent.html) with a few tweaks so it should just run in [Google Colab](https://colab.research.google.com/).  You could try \"Run all\" but probably better to do one block at a time.  There are prompts for entering your OpenAI and Search tool (either [Serp API](https://python.langchain.com/en/latest/ecosystem/serpapi.html) or [Google Custom Search API](https://python.langchain.com/en/latest/ecosystem/google_search.html)) keys.\n",
        "\n",
        "License is [MIT License](https://raw.githubusercontent.com/hwchase17/langchain/master/LICENSE)."
      ]
    },
    {
      "cell_type": "markdown",
      "id": "556af556",
      "metadata": {
        "id": "556af556"
      },
      "source": [
        "## Install and Import Required Modules"
      ]
    },
    {
      "cell_type": "code",
      "source": [
        "%pip install -U openai > /dev/null\n",
        "%pip install -U langchain > /dev/null\n",
        "# tiktoken is required by langchain but wasn't installed when I tried it.\n",
        "%pip install -U tiktoken > /dev/null\n",
        "%pip install faiss-cpu > /dev/null\n",
        "%pip install google-search-results > /dev/null"
      ],
      "metadata": {
        "id": "2bw2wJya5rNV"
      },
      "id": "2bw2wJya5rNV",
      "execution_count": 1,
      "outputs": []
    },
    {
      "cell_type": "code",
      "execution_count": 2,
      "id": "c8a354b6",
      "metadata": {
        "id": "c8a354b6"
      },
      "outputs": [],
      "source": [
        "import os\n",
        "from collections import deque\n",
        "from typing import Dict, List, Optional, Any\n",
        "\n",
        "from getpass import getpass\n",
        "\n",
        "from langchain import LLMChain, OpenAI, PromptTemplate\n",
        "from langchain.embeddings import OpenAIEmbeddings\n",
        "from langchain.llms import BaseLLM\n",
        "from langchain.docstore import InMemoryDocstore\n",
        "from langchain.vectorstores.base import VectorStore\n",
        "from langchain.vectorstores import FAISS\n",
        "from langchain.chains.base import Chain\n",
        "from pydantic import BaseModel, Field, ValidationError"
      ]
    },
    {
      "cell_type": "markdown",
      "id": "09f70772",
      "metadata": {
        "id": "09f70772"
      },
      "source": [
        "## Connect to the Vector Store\n",
        "\n",
        "Depending on what vectorstore you use, this step may look different."
      ]
    },
    {
      "cell_type": "code",
      "source": [
        "# Prompt for manual entry of OpenAI API key if it isn't already defined.\n",
        "if not 'OPENAI_API_KEY' in os.environ:\n",
        "  print(\"Please enter your OpenAI API key:\")\n",
        "  os.environ['OPENAI_API_KEY'] = getpass()"
      ],
      "metadata": {
        "id": "Cjg2kQst7SXG",
        "colab": {
          "base_uri": "https://localhost:8080/"
        },
        "outputId": "b7a315f2-597a-46e6-d08a-8aab34accfee"
      },
      "id": "Cjg2kQst7SXG",
      "execution_count": 3,
      "outputs": [
        {
          "name": "stdout",
          "output_type": "stream",
          "text": [
            "Please enter your OpenAI API key:\n",
            "··········\n"
          ]
        }
      ]
    },
    {
      "cell_type": "code",
      "execution_count": 4,
      "id": "6e0305eb",
      "metadata": {
        "id": "6e0305eb"
      },
      "outputs": [],
      "source": [
        "# Define your embedding model\n",
        "embeddings_model = OpenAIEmbeddings()\n",
        "# Initialize the vectorstore as empty\n",
        "import faiss\n",
        "\n",
        "embedding_size = 1536\n",
        "index = faiss.IndexFlatL2(embedding_size)\n",
        "vectorstore = FAISS(embeddings_model.embed_query, index, InMemoryDocstore({}), {})"
      ]
    },
    {
      "cell_type": "markdown",
      "id": "0f3b72bf",
      "metadata": {
        "id": "0f3b72bf"
      },
      "source": [
        "## Define the Chains\n",
        "\n",
        "BabyAGI relies on three LLM chains:\n",
        "- Task creation chain to select new tasks to add to the list\n",
        "- Task prioritization chain to re-prioritize tasks\n",
        "- Execution Chain to execute the tasks\n",
        "\n",
        "\n",
        "NOTE: in this notebook, the Execution chain will now be an agent."
      ]
    },
    {
      "cell_type": "code",
      "execution_count": 5,
      "id": "bf4bd5cd",
      "metadata": {
        "id": "bf4bd5cd"
      },
      "outputs": [],
      "source": [
        "class TaskCreationChain(LLMChain):\n",
        "    \"\"\"Chain to generates tasks.\"\"\"\n",
        "\n",
        "    @classmethod\n",
        "    def from_llm(cls, llm: BaseLLM, verbose: bool = True) -> LLMChain:\n",
        "        \"\"\"Get the response parser.\"\"\"\n",
        "        task_creation_template = (\n",
        "            \"You are an task creation AI that uses the result of an execution agent\"\n",
        "            \" to create new tasks with the following objective: {objective},\"\n",
        "            \" The last completed task has the result: {result}.\"\n",
        "            \" This result was based on this task description: {task_description}.\"\n",
        "            \" These are incomplete tasks: {incomplete_tasks}.\"\n",
        "            \" Based on the result, create new tasks to be completed\"\n",
        "            \" by the AI system that do not overlap with incomplete tasks.\"\n",
        "            \" Return the tasks as an array.\"\n",
        "        )\n",
        "        prompt = PromptTemplate(\n",
        "            template=task_creation_template,\n",
        "            input_variables=[\n",
        "                \"result\",\n",
        "                \"task_description\",\n",
        "                \"incomplete_tasks\",\n",
        "                \"objective\",\n",
        "            ],\n",
        "        )\n",
        "        return cls(prompt=prompt, llm=llm, verbose=verbose)"
      ]
    },
    {
      "cell_type": "code",
      "execution_count": 6,
      "id": "b6488ffe",
      "metadata": {
        "id": "b6488ffe"
      },
      "outputs": [],
      "source": [
        "class TaskPrioritizationChain(LLMChain):\n",
        "    \"\"\"Chain to prioritize tasks.\"\"\"\n",
        "\n",
        "    @classmethod\n",
        "    def from_llm(cls, llm: BaseLLM, verbose: bool = True) -> LLMChain:\n",
        "        \"\"\"Get the response parser.\"\"\"\n",
        "        task_prioritization_template = (\n",
        "            \"You are an task prioritization AI tasked with cleaning the formatting of and reprioritizing\"\n",
        "            \" the following tasks: {task_names}.\"\n",
        "            \" Consider the ultimate objective of your team: {objective}.\"\n",
        "            \" Do not remove any tasks. Return the result as a numbered list, like:\"\n",
        "            \" #. First task\"\n",
        "            \" #. Second task\"\n",
        "            \" Start the task list with number {next_task_id}.\"\n",
        "        )\n",
        "        prompt = PromptTemplate(\n",
        "            template=task_prioritization_template,\n",
        "            input_variables=[\"task_names\", \"next_task_id\", \"objective\"],\n",
        "        )\n",
        "        return cls(prompt=prompt, llm=llm, verbose=verbose)"
      ]
    },
    {
      "cell_type": "markdown",
      "source": [
        "Only one of these Search APIs will be used so just run the one you want. \n",
        "\n",
        "---\n",
        "\n"
      ],
      "metadata": {
        "id": "-TjcGjhbGyVJ"
      },
      "id": "-TjcGjhbGyVJ"
    },
    {
      "cell_type": "code",
      "source": [
        "from langchain import SerpAPIWrapper\n",
        "\n",
        "# Get Serp API keys here: https://serpapi.com/\n",
        "\n",
        "try:\n",
        "  search\n",
        "except NameError:\n",
        "  # Prompt for manual entry of Serp API key if it isn't already defined.\n",
        "  if not os.environ.get('SERPAPI_API_KEY', None):\n",
        "    print(\"Please enter your Serp API key (or press Enter to skip):\")\n",
        "    os.environ['SERPAPI_API_KEY'] = getpass()\n",
        "  try:\n",
        "    if os.environ.get('SERPAPI_API_KEY', None):\n",
        "      search = SerpAPIWrapper()\n",
        "  except ValidationError as ex:\n",
        "    os.environ['SERPAPI_API_KEY'] = None\n",
        "    print(ex)"
      ],
      "metadata": {
        "id": "nxxq6j0z9EHO"
      },
      "id": "nxxq6j0z9EHO",
      "execution_count": null,
      "outputs": []
    },
    {
      "cell_type": "code",
      "source": [
        "from langchain import GoogleSearchAPIWrapper\n",
        "\n",
        "# Set up Google Custom Search API here: https://programmablesearchengine.google.com/\n",
        "# Docs here: https://python.langchain.com/en/latest/ecosystem/google_search.html\n",
        "\n",
        "try:\n",
        "  search\n",
        "except NameError:\n",
        "  # Prompt for manual entry of Google Custom Search ID and API key if it isn't already defined.\n",
        "  if not os.environ.get('GOOGLE_CSE_ID', None):\n",
        "    os.environ['GOOGLE_CSE_ID'] = input(\"Please enter your Google Custom Search ID (or press Enter to skip):\")\n",
        "  if os.environ.get('GOOGLE_CSE_ID', None) and not os.environ.get('GOOGLE_API_KEY', None):\n",
        "    print(\"Please enter your Google Search API key:\")\n",
        "    os.environ['GOOGLE_API_KEY'] = getpass()\n",
        "  try:\n",
        "    if os.environ.get('GOOGLE_CSE_ID', None) and os.environ.get('GOOGLE_API_KEY', None):\n",
        "      search = GoogleSearchAPIWrapper()\n",
        "  except ValidationError as ex:\n",
        "    os.environ['GOOGLE_CSE_ID'] = None\n",
        "    os.environ['GOOGLE_API_KEY'] = None\n",
        "    print(ex) "
      ],
      "metadata": {
        "id": "PzpjHQBP-giJ"
      },
      "id": "PzpjHQBP-giJ",
      "execution_count": null,
      "outputs": []
    },
    {
      "cell_type": "code",
      "execution_count": 9,
      "id": "b43cd580",
      "metadata": {
        "id": "b43cd580"
      },
      "outputs": [],
      "source": [
        "from langchain.agents import ZeroShotAgent, Tool, AgentExecutor\n",
        "\n",
        "todo_prompt = PromptTemplate.from_template(\n",
        "    \"You are a planner who is an expert at coming up with a todo list for a given objective. Come up with a todo list for this objective: {objective}\"\n",
        ")\n",
        "todo_chain = LLMChain(llm=OpenAI(temperature=0), prompt=todo_prompt)\n",
        "\n",
        "tools = [\n",
        "    Tool(\n",
        "        name=\"Search\",\n",
        "        func=search.run,\n",
        "        description=\"useful for when you need to answer questions about current events\",\n",
        "    ),\n",
        "    Tool(\n",
        "        name=\"TODO\",\n",
        "        func=todo_chain.run,\n",
        "        description=\"useful for when you need to come up with todo lists. Input: an objective to create a todo list for. Output: a todo list for that objective. Please be very clear what the objective is!\",\n",
        "    ),\n",
        "]\n",
        "\n",
        "\n",
        "prefix = \"\"\"You are an AI who performs one task based on the following objective: {objective}. Take into account these previously completed tasks: {context}.\"\"\"\n",
        "suffix = \"\"\"Question: {task}\n",
        "{agent_scratchpad}\"\"\"\n",
        "prompt = ZeroShotAgent.create_prompt(\n",
        "    tools,\n",
        "    prefix=prefix,\n",
        "    suffix=suffix,\n",
        "    input_variables=[\"objective\", \"task\", \"context\", \"agent_scratchpad\"],\n",
        ")"
      ]
    },
    {
      "cell_type": "markdown",
      "id": "3ad996c5",
      "metadata": {
        "id": "3ad996c5"
      },
      "source": [
        "### Define the BabyAGI Controller\n",
        "\n",
        "BabyAGI composes the chains defined above in a (potentially-)infinite loop."
      ]
    },
    {
      "cell_type": "code",
      "execution_count": 10,
      "id": "0ada0636",
      "metadata": {
        "id": "0ada0636"
      },
      "outputs": [],
      "source": [
        "def get_next_task(\n",
        "    task_creation_chain: LLMChain,\n",
        "    result: Dict,\n",
        "    task_description: str,\n",
        "    task_list: List[str],\n",
        "    objective: str,\n",
        ") -> List[Dict]:\n",
        "    \"\"\"Get the next task.\"\"\"\n",
        "    incomplete_tasks = \", \".join(task_list)\n",
        "    response = task_creation_chain.run(\n",
        "        result=result,\n",
        "        task_description=task_description,\n",
        "        incomplete_tasks=incomplete_tasks,\n",
        "        objective=objective,\n",
        "    )\n",
        "    new_tasks = response.split(\"\\n\")\n",
        "    return [{\"task_name\": task_name} for task_name in new_tasks if task_name.strip()]"
      ]
    },
    {
      "cell_type": "code",
      "execution_count": 11,
      "id": "d35250ad",
      "metadata": {
        "id": "d35250ad"
      },
      "outputs": [],
      "source": [
        "def prioritize_tasks(\n",
        "    task_prioritization_chain: LLMChain,\n",
        "    this_task_id: int,\n",
        "    task_list: List[Dict],\n",
        "    objective: str,\n",
        ") -> List[Dict]:\n",
        "    \"\"\"Prioritize tasks.\"\"\"\n",
        "    task_names = [t[\"task_name\"] for t in task_list]\n",
        "    next_task_id = int(this_task_id) + 1\n",
        "    response = task_prioritization_chain.run(\n",
        "        task_names=task_names, next_task_id=next_task_id, objective=objective\n",
        "    )\n",
        "    new_tasks = response.split(\"\\n\")\n",
        "    prioritized_task_list = []\n",
        "    for task_string in new_tasks:\n",
        "        if not task_string.strip():\n",
        "            continue\n",
        "        task_parts = task_string.strip().split(\".\", 1)\n",
        "        if len(task_parts) == 2:\n",
        "            task_id = task_parts[0].strip()\n",
        "            task_name = task_parts[1].strip()\n",
        "            prioritized_task_list.append({\"task_id\": task_id, \"task_name\": task_name})\n",
        "    return prioritized_task_list"
      ]
    },
    {
      "cell_type": "code",
      "execution_count": 12,
      "id": "e3f1840c",
      "metadata": {
        "id": "e3f1840c"
      },
      "outputs": [],
      "source": [
        "def _get_top_tasks(vectorstore, query: str, k: int) -> List[str]:\n",
        "    \"\"\"Get the top k tasks based on the query.\"\"\"\n",
        "    results = vectorstore.similarity_search_with_score(query, k=k)\n",
        "    if not results:\n",
        "        return []\n",
        "    sorted_results, _ = zip(*sorted(results, key=lambda x: x[1], reverse=True))\n",
        "    return [str(item.metadata[\"task\"]) for item in sorted_results]\n",
        "\n",
        "\n",
        "def execute_task(\n",
        "    vectorstore, execution_chain: LLMChain, objective: str, task: str, k: int = 5\n",
        ") -> str:\n",
        "    \"\"\"Execute a task.\"\"\"\n",
        "    context = _get_top_tasks(vectorstore, query=objective, k=k)\n",
        "    return execution_chain.run(objective=objective, context=context, task=task)"
      ]
    },
    {
      "cell_type": "code",
      "execution_count": 13,
      "id": "1e978938",
      "metadata": {
        "id": "1e978938"
      },
      "outputs": [],
      "source": [
        "class BabyAGI(Chain, BaseModel):\n",
        "    \"\"\"Controller model for the BabyAGI agent.\"\"\"\n",
        "\n",
        "    task_list: deque = Field(default_factory=deque)\n",
        "    task_creation_chain: TaskCreationChain = Field(...)\n",
        "    task_prioritization_chain: TaskPrioritizationChain = Field(...)\n",
        "    execution_chain: AgentExecutor = Field(...)\n",
        "    task_id_counter: int = Field(1)\n",
        "    vectorstore: VectorStore = Field(init=False)\n",
        "    max_iterations: Optional[int] = None\n",
        "\n",
        "    class Config:\n",
        "        \"\"\"Configuration for this pydantic object.\"\"\"\n",
        "\n",
        "        arbitrary_types_allowed = True\n",
        "\n",
        "    def add_task(self, task: Dict):\n",
        "        self.task_list.append(task)\n",
        "\n",
        "    def print_task_list(self):\n",
        "        print(\"\\033[95m\\033[1m\" + \"\\n*****TASK LIST*****\\n\" + \"\\033[0m\\033[0m\")\n",
        "        for t in self.task_list:\n",
        "            print(str(t[\"task_id\"]) + \": \" + t[\"task_name\"])\n",
        "\n",
        "    def print_next_task(self, task: Dict):\n",
        "        print(\"\\033[92m\\033[1m\" + \"\\n*****NEXT TASK*****\\n\" + \"\\033[0m\\033[0m\")\n",
        "        print(str(task[\"task_id\"]) + \": \" + task[\"task_name\"])\n",
        "\n",
        "    def print_task_result(self, result: str):\n",
        "        print(\"\\033[93m\\033[1m\" + \"\\n*****TASK RESULT*****\\n\" + \"\\033[0m\\033[0m\")\n",
        "        print(result)\n",
        "\n",
        "    @property\n",
        "    def input_keys(self) -> List[str]:\n",
        "        return [\"objective\"]\n",
        "\n",
        "    @property\n",
        "    def output_keys(self) -> List[str]:\n",
        "        return []\n",
        "\n",
        "    def _call(self, inputs: Dict[str, Any]) -> Dict[str, Any]:\n",
        "        \"\"\"Run the agent.\"\"\"\n",
        "        objective = inputs[\"objective\"]\n",
        "        first_task = inputs.get(\"first_task\", \"Make a todo list\")\n",
        "        self.add_task({\"task_id\": 1, \"task_name\": first_task})\n",
        "        num_iters = 0\n",
        "        while True:\n",
        "            if self.task_list:\n",
        "                self.print_task_list()\n",
        "\n",
        "                # Step 1: Pull the first task\n",
        "                task = self.task_list.popleft()\n",
        "                self.print_next_task(task)\n",
        "\n",
        "                # Step 2: Execute the task\n",
        "                result = execute_task(\n",
        "                    self.vectorstore, self.execution_chain, objective, task[\"task_name\"]\n",
        "                )\n",
        "                this_task_id = int(task[\"task_id\"])\n",
        "                self.print_task_result(result)\n",
        "\n",
        "                # Step 3: Store the result in Pinecone\n",
        "                result_id = f\"result_{task['task_id']}\"\n",
        "                self.vectorstore.add_texts(\n",
        "                    texts=[result],\n",
        "                    metadatas=[{\"task\": task[\"task_name\"]}],\n",
        "                    ids=[result_id],\n",
        "                )\n",
        "\n",
        "                # Step 4: Create new tasks and reprioritize task list\n",
        "                new_tasks = get_next_task(\n",
        "                    self.task_creation_chain,\n",
        "                    result,\n",
        "                    task[\"task_name\"],\n",
        "                    [t[\"task_name\"] for t in self.task_list],\n",
        "                    objective,\n",
        "                )\n",
        "                for new_task in new_tasks:\n",
        "                    self.task_id_counter += 1\n",
        "                    new_task.update({\"task_id\": self.task_id_counter})\n",
        "                    self.add_task(new_task)\n",
        "                self.task_list = deque(\n",
        "                    prioritize_tasks(\n",
        "                        self.task_prioritization_chain,\n",
        "                        this_task_id,\n",
        "                        list(self.task_list),\n",
        "                        objective,\n",
        "                    )\n",
        "                )\n",
        "            num_iters += 1\n",
        "            if self.max_iterations is not None and num_iters == self.max_iterations:\n",
        "                print(\n",
        "                    \"\\033[91m\\033[1m\" + \"\\n*****TASK ENDING*****\\n\" + \"\\033[0m\\033[0m\"\n",
        "                )\n",
        "                break\n",
        "        return {}\n",
        "\n",
        "    @classmethod\n",
        "    def from_llm(\n",
        "        cls, llm: BaseLLM, vectorstore: VectorStore, verbose: bool = False, **kwargs\n",
        "    ) -> \"BabyAGI\":\n",
        "        \"\"\"Initialize the BabyAGI Controller.\"\"\"\n",
        "        task_creation_chain = TaskCreationChain.from_llm(llm, verbose=verbose)\n",
        "        task_prioritization_chain = TaskPrioritizationChain.from_llm(\n",
        "            llm, verbose=verbose\n",
        "        )\n",
        "        llm_chain = LLMChain(llm=llm, prompt=prompt)\n",
        "        tool_names = [tool.name for tool in tools]\n",
        "        agent = ZeroShotAgent(llm_chain=llm_chain, allowed_tools=tool_names)\n",
        "        agent_executor = AgentExecutor.from_agent_and_tools(\n",
        "            agent=agent, tools=tools, verbose=True\n",
        "        )\n",
        "        return cls(\n",
        "            task_creation_chain=task_creation_chain,\n",
        "            task_prioritization_chain=task_prioritization_chain,\n",
        "            execution_chain=agent_executor,\n",
        "            vectorstore=vectorstore,\n",
        "            **kwargs,\n",
        "        )"
      ]
    },
    {
      "cell_type": "markdown",
      "id": "05ba762e",
      "metadata": {
        "id": "05ba762e"
      },
      "source": [
        "### Run the BabyAGI\n",
        "\n",
        "Now it's time to create the BabyAGI controller and watch it try to accomplish your objective."
      ]
    },
    {
      "cell_type": "code",
      "execution_count": 14,
      "id": "3d220b69",
      "metadata": {
        "id": "3d220b69"
      },
      "outputs": [],
      "source": [
        "OBJECTIVE = \"Write a weather report for SF today\""
      ]
    },
    {
      "cell_type": "code",
      "execution_count": 15,
      "id": "8a8e5543",
      "metadata": {
        "id": "8a8e5543"
      },
      "outputs": [],
      "source": [
        "llm = OpenAI(temperature=0)"
      ]
    },
    {
      "cell_type": "code",
      "execution_count": 16,
      "id": "3d69899b",
      "metadata": {
        "id": "3d69899b"
      },
      "outputs": [],
      "source": [
        "# Logging of LLMChains\n",
        "verbose = False\n",
        "# If None, will keep on going forever\n",
        "max_iterations: Optional[int] = 3\n",
        "baby_agi = BabyAGI.from_llm(\n",
        "    llm=llm, vectorstore=vectorstore, verbose=verbose, max_iterations=max_iterations\n",
        ")"
      ]
    },
    {
      "cell_type": "code",
      "execution_count": 18,
      "id": "f7957b51",
      "metadata": {
        "scrolled": false,
        "id": "f7957b51",
        "outputId": "1f06c364-2b15-45b4-bee8-c3d14cb16984",
        "colab": {
          "base_uri": "https://localhost:8080/"
        }
      },
      "outputs": [
        {
          "output_type": "stream",
          "name": "stdout",
          "text": [
            "\u001b[95m\u001b[1m\n",
            "*****TASK LIST*****\n",
            "\u001b[0m\u001b[0m\n",
            "4: Research the forecast for the next week and determine if the wind speed is expected to increase or decrease.\n",
            "5: Gather data on the average wind speed in San Francisco for the past week.\n",
            "6: Create a graph to illustrate the temperature changes over the past week and the forecast for the next week.\n",
            "7: Create a graph to illustrate the wind speed changes over the past week and the forecast for the next week.\n",
            "8: Compile a report summarizing the current weather conditions in San Francisco and the forecast for the next week, including wind speed and humidity.\n",
            "9: Research the chance of rain showers in San Francisco for the next week.\n",
            "10: Compare the current temperature in San Francisco to the average temperature for the same time of year in other cities.\n",
            "11: Analyze the data to determine if the current humidity is higher or lower than the average humidity for the same time of year.\n",
            "12: Research the forecast for the next week and determine if the wind direction is expected to change.\n",
            "13: Gather data on the average wind direction in San Francisco for the past week.\n",
            "14: Create a graph to illustrate the humidity changes over the past week and the forecast for the next week.\n",
            "15: Comp\n",
            "1: Make a todo list\n",
            "\u001b[92m\u001b[1m\n",
            "*****NEXT TASK*****\n",
            "\u001b[0m\u001b[0m\n",
            "4: Research the forecast for the next week and determine if the wind speed is expected to increase or decrease.\n",
            "\n",
            "\n",
            "\u001b[1m> Entering new AgentExecutor chain...\u001b[0m\n",
            "\u001b[32;1m\u001b[1;3mThought: I need to search for the forecast for the next week.\n",
            "Action: Search\n",
            "Action Input: forecast for the next week\u001b[0m\u001b[36;1m\u001b[1;3mPlan you week with the help of our 10-day weather forecasts and weekend weather predictions. Be prepared with the most accurate 10-day forecast for Chicago, IL with highs, lows, chance of precipitation from The Weather Channel and Weather.com. Overview; Surface Analysis; Fronts; QPF; Excessive Rain; Winter Wx; Day 3–7; Forecast Tools. National Forecast Chart. Valid Wed Apr 19, 2023. Be prepared with the most accurate 10-day forecast for Philadelphia, PA with highs, lows, chance of precipitation from The Weather Channel and Weather.com. A depicted severe weather area indicates 15%, 30% or higher probability for ... D6, Sun, Apr 23, 2023 - Mon, Apr 24, 2023, (All days are valid from 12 UTC ... Be prepared with the most accurate 10-day forecast for Washington, DC with highs, lows, chance of precipitation from The Weather Channel and Weather.com. Will this front bring cooler weather? It will bring down temperatures a bit for next weekend with highs in the low to mid 70s. In addition to slightly ... Week 3-4 Forecast Discussion Valid Sat Apr 29 2023-Fri May 12 2023. With neutral El Niño Southern Oscillation (ENSO) conditions currently in place, ... Short Range Forecasts. Short range forecast products depicting pressure patterns, circulation centers and fronts, and types and extent of precipitation. 12 Hour ... Valid: April 26 to May 02, 2023 ... of past outlooks (data & graphics), historical analogs to todays forecast, and other formats of the 8-14 day outlooks\u001b[0m\u001b[32;1m\u001b[1;3m I now know the forecast for the next week.\n",
            "Final Answer: The wind speed is expected to remain relatively constant over the next week.\u001b[0m\n",
            "\n",
            "\u001b[1m> Finished chain.\u001b[0m\n",
            "\u001b[93m\u001b[1m\n",
            "*****TASK RESULT*****\n",
            "\u001b[0m\u001b[0m\n",
            "The wind speed is expected to remain relatively constant over the next week.\n",
            "\u001b[95m\u001b[1m\n",
            "*****TASK LIST*****\n",
            "\u001b[0m\u001b[0m\n",
            "5: Research the chance of rain showers in San Francisco for the next week.\n",
            "6: Compare the current temperature in San Francisco to the average temperature for the same time of year in other cities.\n",
            "7: Analyze the data to determine if the current humidity is higher or lower than the average humidity for the same time of year.\n",
            "8: Research the forecast for the next week and determine if the wind direction is expected to change.\n",
            "9: Gather data on the average wind direction in San Francisco for the past week and compare it to the forecast for the next week.\n",
            "10: Create a graph to illustrate the temperature changes over the past week and the forecast for the next week.\n",
            "11: Create a graph to illustrate the wind speed changes over the past week and the forecast for the next week.\n",
            "12: Create a graph to illustrate the humidity changes over the past week and the forecast for the next week.\n",
            "13: Compile a report summarizing the current weather conditions in San Francisco and the forecast for the next week, including wind speed and humidity.\n",
            "14: Gather data on the average wind speed in San Francisco for the past week.\n",
            "15: Make a todo list.\n",
            "16: Tasks:\n",
            "\u001b[92m\u001b[1m\n",
            "*****NEXT TASK*****\n",
            "\u001b[0m\u001b[0m\n",
            "5: Research the chance of rain showers in San Francisco for the next week.\n",
            "\n",
            "\n",
            "\u001b[1m> Entering new AgentExecutor chain...\u001b[0m\n",
            "\u001b[32;1m\u001b[1;3mThought: I need to search for the forecast for the next week.\n",
            "Action: Search\n",
            "Action Input: Forecast for the next week in San Francisco\u001b[0m\u001b[36;1m\u001b[1;3mClear skies. Low near 50F. Winds WNW at 10 to 15 mph. Humidity70%. UV Index0 of 10. Moonrise6:46 am. New Moon. Moonset8:48 pm ... Forecasted weather conditions the coming 2 weeks for San Francisco. Thu 20 | Night · Humidity77% · UV Index0 of 10 · Moonrise6:47 am. New Moon · Moonset8:51 pm ... Keep up to date on all San Francisco weather news with KRON4. ... This is an image of forecasted winds. ... Bay Area rain likely to return next week. A mostly clear sky. Low near 50F. Winds WNW at 10 to 15 mph. Humidity71%. UV Index0 of 10. Moonrise6:46 am. New Moon. Moonset8:48 pm ... 14-day weather forecast for San Francisco. Ahead of this storm will be showers, thunderstorms and locally heavy rainfall. ... Zone Area Forecast for San Francisco County, CA. The forecast also calls for sunny and dry days into the middle of next week. Highs Tomorrow: Santa Rosa 66. San Francisco 58. Oakland 62. San Jose 62. San Francisco, CA Weather Forecast, with current conditions, wind, air quality, and what to expect for the next 3 days. San Francisco Weather Forecasts. Weather Underground provides local & long-range weather forecasts, weatherreports, maps & tropical weather conditions for ...\u001b[0m\u001b[32;1m\u001b[1;3m I now know the final answer.\n",
            "Final Answer: The forecast for the next week in San Francisco is mostly clear skies with a chance of showers and thunderstorms. Highs will be in the mid-60s with lows near 50F. Winds will be WNW at 10 to 15 mph. Humidity will range from 70-77%. UV Index will be 0 of 10. Moonrise will be at 6:46 am and moonset at 8:48 pm.\u001b[0m\n",
            "\n",
            "\u001b[1m> Finished chain.\u001b[0m\n",
            "\u001b[93m\u001b[1m\n",
            "*****TASK RESULT*****\n",
            "\u001b[0m\u001b[0m\n",
            "The forecast for the next week in San Francisco is mostly clear skies with a chance of showers and thunderstorms. Highs will be in the mid-60s with lows near 50F. Winds will be WNW at 10 to 15 mph. Humidity will range from 70-77%. UV Index will be 0 of 10. Moonrise will be at 6:46 am and moonset at 8:48 pm.\n",
            "\u001b[95m\u001b[1m\n",
            "*****TASK LIST*****\n",
            "\u001b[0m\u001b[0m\n",
            "6: Create a report summarizing the current weather conditions in San Francisco and the forecast for the next week, including temperature and UV Index.\n",
            "1: Research the average temperature for the same time of year in other cities and compare it to the current temperature in San Francisco.\n",
            "2: Analyze the data to determine if the current wind speed is higher or lower than the average wind speed for the same time of year.\n",
            "3: Research the forecast for the next week and determine if the UV Index is expected to change.\n",
            "4: Gather data on the average UV Index in San Francisco for the past week and compare it to the forecast for the next week.\n",
            "5: Create a graph to illustrate the wind direction changes over the past week and the forecast for the next week.\n",
            "7: Gather data on the average temperature in San Francisco for the past week.\n",
            "8: Research the average humidity for the same time of year in other cities and compare it to the current humidity in San Francisco.\n",
            "9: Analyze the data to determine if the current humidity is higher or lower than the average humidity for the same time of year.\n",
            "10: Research the forecast for the next week and determine if the wind direction is expected to change.\n",
            "\u001b[92m\u001b[1m\n",
            "*****NEXT TASK*****\n",
            "\u001b[0m\u001b[0m\n",
            "6: Create a report summarizing the current weather conditions in San Francisco and the forecast for the next week, including temperature and UV Index.\n",
            "\n",
            "\n",
            "\u001b[1m> Entering new AgentExecutor chain...\u001b[0m\n",
            "\u001b[32;1m\u001b[1;3m\n",
            "Thought: I need to research the current weather conditions and the forecast for the next week.\n",
            "Action: Search\n",
            "Action Input: Current weather conditions and forecast for the next week in San Francisco\u001b[0m\u001b[36;1m\u001b[1;3mClear skies. Low near 50F. Winds WNW at 10 to 15 mph. Humidity70%. UV Index0 of 10. Moonrise6:46 am. New Moon. Moonset8:48 pm ... Forecasted weather conditions the coming 2 weeks for San Francisco. Be prepared with the most accurate 10-day forecast for Inverness, ... Winds NNW at 10 to 20 mph. Humidity79%. UV Index0 of 10. Moonrise6:20 am. New Moon. See the latest San Francisco weather forecast, current conditions, and live radar. ... Bay Area rain likely to return next week · Weather / 4 weeks ago. Be prepared with the most accurate 10-day forecast for Inverness, CA with highs ... at 10 to 20 mph. Humidity78%. UV Index0 of 10. Moonrise6:20 am. New Moon. Current conditions at. SAN FRANCISCO DOWNTOWN (SFOC1). Lat: 37.77056°NLon: 122.42694°WElev: 150ft. NA. 50°F. 10°C. Humidity, 61%. Wind Speed, NA NA MPH. A mostly clear sky. Low near 50F. Winds WNW at 10 to 15 mph. Humidity71%. UV Index0 of 10. Moonrise6:46 am. New Moon. Moonset8:48 pm ... San Francisco, CA Weather Forecast, with current conditions, wind, air quality, and what to expect for the next 3 days. Clear skies. Low 49F. WNW winds at 10 to 20 mph, decreasing to less than 5 mph. Humidity72%. UV Index0 of 10. Moonrise6:46 am. New Moon. Moonset8:48 pm ... NWS Forecast Office San Francisco, CA · Current Hazards. Current Outlooks · Submit Report · Current Conditions. Observations · Satellite · Radar · Local Enhanced ...\u001b[0m\u001b[32;1m\u001b[1;3m I now know the final answer\n",
            "Final Answer: The current weather conditions in San Francisco are clear skies with a low near 50F. Winds are WNW at 10 to 15 mph with a humidity of 71%. The UV Index is 0 of 10. The forecast for the next week includes a mostly clear sky with a low near 49F. Winds will be WNW at 10 to 20 mph, decreasing to less than 5 mph. Humidity will be 72% and the UV Index will be 0 of 10. There is a chance of rain showers in the forecast for the next week.\u001b[0m\n",
            "\n",
            "\u001b[1m> Finished chain.\u001b[0m\n",
            "\u001b[93m\u001b[1m\n",
            "*****TASK RESULT*****\n",
            "\u001b[0m\u001b[0m\n",
            "The current weather conditions in San Francisco are clear skies with a low near 50F. Winds are WNW at 10 to 15 mph with a humidity of 71%. The UV Index is 0 of 10. The forecast for the next week includes a mostly clear sky with a low near 49F. Winds will be WNW at 10 to 20 mph, decreasing to less than 5 mph. Humidity will be 72% and the UV Index will be 0 of 10. There is a chance of rain showers in the forecast for the next week.\n",
            "\u001b[91m\u001b[1m\n",
            "*****TASK ENDING*****\n",
            "\u001b[0m\u001b[0m\n"
          ]
        },
        {
          "output_type": "execute_result",
          "data": {
            "text/plain": [
              "{'objective': 'Write a weather report for SF today'}"
            ]
          },
          "metadata": {},
          "execution_count": 18
        }
      ],
      "source": [
        "baby_agi({\"objective\": OBJECTIVE})"
      ]
    },
    {
      "cell_type": "code",
      "execution_count": 17,
      "id": "898a210b",
      "metadata": {
        "id": "898a210b"
      },
      "outputs": [],
      "source": []
    }
  ],
  "metadata": {
    "kernelspec": {
      "display_name": "Python 3 (ipykernel)",
      "language": "python",
      "name": "python3"
    },
    "language_info": {
      "codemirror_mode": {
        "name": "ipython",
        "version": 3
      },
      "file_extension": ".py",
      "mimetype": "text/x-python",
      "name": "python",
      "nbconvert_exporter": "python",
      "pygments_lexer": "ipython3",
      "version": "3.9.1"
    },
    "colab": {
      "provenance": [],
      "include_colab_link": true
    }
  },
  "nbformat": 4,
  "nbformat_minor": 5
}